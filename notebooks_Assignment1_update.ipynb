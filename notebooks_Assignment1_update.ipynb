{
  "metadata": {
    "language_info": {
      "codemirror_mode": {
        "name": "python",
        "version": 3
      },
      "file_extension": ".py",
      "mimetype": "text/x-python",
      "name": "python",
      "nbconvert_exporter": "python",
      "pygments_lexer": "ipython3",
      "version": "3.8"
    },
    "kernelspec": {
      "name": "python",
      "display_name": "Python (Pyodide)",
      "language": "python"
    }
  },
  "nbformat_minor": 4,
  "nbformat": 4,
  "cells": [
    {
      "cell_type": "code",
      "source": "#question2: about  operators in python\n\nx = 35\ny = 78\nc = y // x\nd = y % x\nprint(\"the value of c is \" + str(c) +  \" which represents the floor division of Y by X\")\nprint( str (d)+ \" is what you get from y % x\")",
      "metadata": {
        "trusted": true
      },
      "execution_count": 2,
      "outputs": [
        {
          "name": "stdout",
          "text": "the value of c is 2 which represents the floor division of Y by X\n8 is what you get from y % x\n",
          "output_type": "stream"
        }
      ]
    },
    {
      "cell_type": "code",
      "source": "#question4 : different ways to format the string\n\nprint(\"I love\", \"python\")\nprint(\"I love\" + \" python\")\nprint(\"I love\" + \" python\"+ \" version\", 3.10)\nprint(\"I love\"+\"python\"+\"version %.2f\"%3.10)\nprint(\"I love %s version %.2f\"%(\"python\",3.10))\n\n#using format positional argument\nprint(\"I love {} version {}\".format(\"python\",3.10))\nprint(\"I love {} version {}\".format(\"python\",\"3.10\"))\nprint(\"I love {} version {:.2f}\".format(\"python\",3.10))\nprint(\"I love {1} version of {0}\".format(\"python\",\"3.10\"))\n# using format keyword argument\nprint(\"I love {pl} version{version:.2f}\".format(pl=\"python\",version = 3.10))  \n#using f-string literal\ninfo={\"pl\":\"python\",\"version\":3.10}\nprint(F\"I love {info.get('pl')} version {info.get('version'):.2f}\")\n#can be done with upper f literal and single quate but double quate while accessing dictionary value\nprint(F'I love{info[\"pl\"]} version {info[\"version\"]:.2f}')\n#f-string conditional\nbatch='ML'\nprint(f'I love {\"javascript\" if batch==\"FS\" else \"python\"}')",
      "metadata": {
        "trusted": true
      },
      "execution_count": 3,
      "outputs": [
        {
          "name": "stdout",
          "text": "I love python\nI love python\nI love python version 3.1\nI lovepythonversion 3.10\nI love python version 3.10\nI love python version 3.1\nI love python version 3.10\nI love python version 3.10\nI love 3.10 version of python\nI love python version3.10\nI love python version 3.10\nI lovepython version 3.10\nI love python\n",
          "output_type": "stream"
        }
      ]
    },
    {
      "cell_type": "code",
      "source": "#question5: indexing in python iterables\ncountries = [\"Finland\",\"Sweden\",\"Denmark\",\"Netherlands\",\"Germany\",\"Norway\",\"Iceland\"]\n#the index of Sweden\nindex = countries.index(\"Sweden\")\nprint(\"the index of Sweden is\", index)\n#get all the items except the first\nprint(countries[1:])\n#get all items except the last\nprint(countries[0:6])\n#find the last item using negative indexinng\nprint(countries[-1])\n#find the last three item using negative indexing\nprint(countries[-3:])\n#grab all items with odd indices\nprint(countries[1::2])\n#items with even indices\nprint(countries[0::2])\n#Find the first and last item for the list\nprint(countries[::len(countries)-1])\n#Get [”Netherlands”,”Germany”,”Norway”] using negative indexing\nprint(countries[-4:-1])\n#Reverse the list\ncountries.reverse()\nprint(countries)\n#What is the output of countries[::-2]\nprint(countries[::-2])\n#l.\tWhat is the output of countries[1:100:2]?\nprint(countries[1:100:2])\n#What is the output of countries[len(countries)-1:0:2]?\nprint(countries[len(countries)-1:0:2])\n#Get the output ['Germany', 'Netherlands', 'Denmark']\nprint(['Germany', 'Netherlands', 'Denmark'])\n#Use enumerate method to get index and values in the list\nfor i, element in enumerate(countries):\n    print(i,element)\n",
      "metadata": {
        "trusted": true
      },
      "execution_count": 4,
      "outputs": [
        {
          "name": "stdout",
          "text": "the index of Sweden is 1\n['Sweden', 'Denmark', 'Netherlands', 'Germany', 'Norway', 'Iceland']\n['Finland', 'Sweden', 'Denmark', 'Netherlands', 'Germany', 'Norway']\nIceland\n['Germany', 'Norway', 'Iceland']\n['Sweden', 'Netherlands', 'Norway']\n['Finland', 'Denmark', 'Germany', 'Iceland']\n['Finland', 'Iceland']\n['Netherlands', 'Germany', 'Norway']\n['Iceland', 'Norway', 'Germany', 'Netherlands', 'Denmark', 'Sweden', 'Finland']\n['Finland', 'Denmark', 'Germany', 'Iceland']\n['Norway', 'Netherlands', 'Sweden']\n[]\n['Germany', 'Netherlands', 'Denmark']\n0 Iceland\n1 Norway\n2 Germany\n3 Netherlands\n4 Denmark\n5 Sweden\n6 Finland\n",
          "output_type": "stream"
        }
      ]
    },
    {
      "cell_type": "code",
      "source": "#question6: Exercise on dictionaries\n#a.\tGiven the two lists of same length, create a dictionary using a list as keys and another list as values without using loop\nkeys= [\"A\",\"B\",\"C\",\"D\"]\nvalues = [1,2,3,4]\ncombined = dict(zip(keys,values))\nprint(\" the combination of keys and values become a dictionary:\" + str(combined))\n#Create two dictionaries, merge them into one.\ndict_1 = {'Blandine': 2020, 'Joy':2016, 'Janet':2014}\ndict_2 = {'Suzan': 2012,  'Emma': 2002, 'Kristina':2013}\ndict_1.update(dict_2)\nprint(dict_1)\n#Given the list of students, assign them the course.\nStudents = [\"Duy\", \"Laxmi\",\"Antonio\",\"Maria\"]\nCourse = [\"Python\",\"Database\",\"ML\"] \n\n\n",
      "metadata": {
        "trusted": true
      },
      "execution_count": 5,
      "outputs": [
        {
          "name": "stdout",
          "text": " the combination of keys and values become a dictionary:{'A': 1, 'B': 2, 'C': 3, 'D': 4}\n{'Blandine': 2020, 'Joy': 2016, 'Janet': 2014, 'Suzan': 2012, 'Emma': 2002, 'Kristina': 2013}\n",
          "output_type": "stream"
        }
      ]
    },
    {
      "cell_type": "code",
      "source": "#question1: Use the constructor methods to create different data types in python \nx = int(40)\ny = float(30.5)\nx = list((\"apple\", \"banana\", \"mango\"))\nx = tuple((\"apple\",\"banana\" ,\"mango\"))\nz = set((\"apple\", \"banana\", \"mango\"))\nf = dict((\"apple\",\"banana\",\"mango\"))\n# use object literals to create data types in python.\nx = 2\nx = 30.5\nx = [\"apple\", \"banana\", \"mango\"] #creating a list\nx = (\"apple\", \"banana\", \"mango\") #creating a tuple\nz = {\"apple\", \"banana\", \"mango\"} #creating a set\n\n",
      "metadata": {
        "trusted": true
      },
      "execution_count": 6,
      "outputs": []
    },
    {
      "cell_type": "code",
      "source": "#question5:\n#students_profile dictionary\nstudents_profile = {}\nstudents_profile[\"Duy\"] = [\"python\",\"Database\",\"ML\"]\nstudents_profile[\"Laxmi\"]= [\"python\",\"Database\",\"ML\"]\nstudents_profile[\"Antonio\"] = [\"python\",\"Database\",\"ML\"]\nstudents_profile[\"Maria\"]= [\"python\",\"Database\",\"ML\"]\nprint(students_profile)\n#Modify Antonio’s course to [\"JavaScript\",\"Database\",\"NodeJS\"]\nstudents_profile[\"Antonio\"] = [\"JavaScript\",\"Database\",\"NodeJS\"]\nprint(students_profile)\n#Add “ReactJs” to Anonio’s course\nstudents_profile[\"Antonio\"].append(\"ReactsJS\")\nprint(students_profile)\n#Replace Antonio’s “ReactJs” to “Vuejs”\nstudents_profile[\"Antonio\"][-1] = \"Vuejs\"\nprint(students_profile)\n#Remove an item from dictionary\ndel students_profile[\"Antonio\"]\nprint(students_profile)\n\n",
      "metadata": {
        "trusted": true
      },
      "execution_count": 1,
      "outputs": [
        {
          "name": "stdout",
          "text": "{'Duy': ['python', 'Database', 'ML'], 'Laxmi': ['python', 'Database', 'ML'], 'Antonio': ['python', 'Database', 'ML'], 'Maria': ['python', 'Database', 'ML']}\n{'Duy': ['python', 'Database', 'ML'], 'Laxmi': ['python', 'Database', 'ML'], 'Antonio': ['JavaScript', 'Database', 'NodeJS'], 'Maria': ['python', 'Database', 'ML']}\n{'Duy': ['python', 'Database', 'ML'], 'Laxmi': ['python', 'Database', 'ML'], 'Antonio': ['JavaScript', 'Database', 'NodeJS', 'ReactsJS'], 'Maria': ['python', 'Database', 'ML']}\n{'Duy': ['python', 'Database', 'ML'], 'Laxmi': ['python', 'Database', 'ML'], 'Antonio': ['JavaScript', 'Database', 'NodeJS', 'Vuejs'], 'Maria': ['python', 'Database', 'ML']}\n{'Duy': ['python', 'Database', 'ML'], 'Laxmi': ['python', 'Database', 'ML'], 'Maria': ['python', 'Database', 'ML']}\n",
          "output_type": "stream"
        }
      ]
    },
    {
      "cell_type": "code",
      "source": "#question3:run dir(object). Navigate the magic methods/dunder methods\n#integers\n\nx = int(4)\nc = dir(x)\nprint(c)\nprint(x.__divmod__(8))\n\n#using methods type and isinstance.\nprint(type(x))\nprint(isinstance(x,int))\n#floats\n\ny = float(5.6)\ns = dir(y)\nprint(s)\nprint(isinstance(y,float))\nprint(type(y))\n#sets\nz = {\"apple\", \"banana\", \"mango\"} #creating a set\nw = {\"beans\",\"peas\",\"maize\"}\np = dir(z)\nprint(p)\nprint(z.__class__())\n\n",
      "metadata": {
        "trusted": true
      },
      "execution_count": 61,
      "outputs": [
        {
          "name": "stdout",
          "text": "['__abs__', '__add__', '__and__', '__bool__', '__ceil__', '__class__', '__delattr__', '__dir__', '__divmod__', '__doc__', '__eq__', '__float__', '__floor__', '__floordiv__', '__format__', '__ge__', '__getattribute__', '__getnewargs__', '__gt__', '__hash__', '__index__', '__init__', '__init_subclass__', '__int__', '__invert__', '__le__', '__lshift__', '__lt__', '__mod__', '__mul__', '__ne__', '__neg__', '__new__', '__or__', '__pos__', '__pow__', '__radd__', '__rand__', '__rdivmod__', '__reduce__', '__reduce_ex__', '__repr__', '__rfloordiv__', '__rlshift__', '__rmod__', '__rmul__', '__ror__', '__round__', '__rpow__', '__rrshift__', '__rshift__', '__rsub__', '__rtruediv__', '__rxor__', '__setattr__', '__sizeof__', '__str__', '__sub__', '__subclasshook__', '__truediv__', '__trunc__', '__xor__', 'as_integer_ratio', 'bit_count', 'bit_length', 'conjugate', 'denominator', 'from_bytes', 'imag', 'numerator', 'real', 'to_bytes']\n(0, 4)\n<class 'int'>\nTrue\n['__abs__', '__add__', '__bool__', '__ceil__', '__class__', '__delattr__', '__dir__', '__divmod__', '__doc__', '__eq__', '__float__', '__floor__', '__floordiv__', '__format__', '__ge__', '__getattribute__', '__getformat__', '__getnewargs__', '__gt__', '__hash__', '__init__', '__init_subclass__', '__int__', '__le__', '__lt__', '__mod__', '__mul__', '__ne__', '__neg__', '__new__', '__pos__', '__pow__', '__radd__', '__rdivmod__', '__reduce__', '__reduce_ex__', '__repr__', '__rfloordiv__', '__rmod__', '__rmul__', '__round__', '__rpow__', '__rsub__', '__rtruediv__', '__set_format__', '__setattr__', '__sizeof__', '__str__', '__sub__', '__subclasshook__', '__truediv__', '__trunc__', 'as_integer_ratio', 'conjugate', 'fromhex', 'hex', 'imag', 'is_integer', 'real']\nTrue\n<class 'float'>\n['__and__', '__class__', '__class_getitem__', '__contains__', '__delattr__', '__dir__', '__doc__', '__eq__', '__format__', '__ge__', '__getattribute__', '__gt__', '__hash__', '__iand__', '__init__', '__init_subclass__', '__ior__', '__isub__', '__iter__', '__ixor__', '__le__', '__len__', '__lt__', '__ne__', '__new__', '__or__', '__rand__', '__reduce__', '__reduce_ex__', '__repr__', '__ror__', '__rsub__', '__rxor__', '__setattr__', '__sizeof__', '__str__', '__sub__', '__subclasshook__', '__xor__', 'add', 'clear', 'copy', 'difference', 'difference_update', 'discard', 'intersection', 'intersection_update', 'isdisjoint', 'issubset', 'issuperset', 'pop', 'remove', 'symmetric_difference', 'symmetric_difference_update', 'union', 'update']\nset()\n",
          "output_type": "stream"
        }
      ]
    },
    {
      "cell_type": "code",
      "source": "",
      "metadata": {},
      "execution_count": null,
      "outputs": []
    }
  ]
}